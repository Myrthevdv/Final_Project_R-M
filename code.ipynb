{
 "cells": [
  {
   "cell_type": "markdown",
   "metadata": {},
   "source": [
    "# Final_project_R-M"
   ]
  },
  {
   "cell_type": "markdown",
   "metadata": {},
   "source": [
    "This jupyter notebook contain the script which is used to see if Belgian or Dutch users use more hashtags in their messages on Twitter. To perform the script follow the following steps in the jupyter notebook: click on Cell, click on Run All\n",
    "If the script perform right it will present you a graph with the average of the amount of hashtags in a tweet\n",
    "The data which is used in the programm comes from the In-house Twitter Corpus, the data which is specially used from this script is: The Date, The tweet, Hashtags, Place"
   ]
  },
  {
   "cell_type": "code",
   "execution_count": null,
   "metadata": {},
   "outputs": [],
   "source": [
    "%matplotlib inline\n",
    "import pandas as pd\n",
    "import seaborn as sns\n",
    "import re\n",
    "df =pd.read_csv('user_text.tsv',sep='\\t', names=['Text', 'Date', 'Place', 'Hashtags']) #read tsv file and add colom headers \n",
    "df[\"Date\"] = pd.to_datetime(df.Date) #convert dates into appropriate datatype\n",
    "df = df.sort_values(by=['Date']) # sort the data on the date \n",
    "df = df.dropna(subset=['Place'])  # drop rows with missing values in this column\n",
    "\n",
    "\n"
   ]
  },
  {
   "cell_type": "markdown",
   "metadata": {},
   "source": [
    "Data after removing Rows without value for Place:"
   ]
  },
  {
   "cell_type": "code",
   "execution_count": null,
   "metadata": {},
   "outputs": [],
   "source": [
    "df"
   ]
  },
  {
   "cell_type": "markdown",
   "metadata": {},
   "source": [
    "Data after adding totalhashtags of each tweet:"
   ]
  },
  {
   "cell_type": "code",
   "execution_count": null,
   "metadata": {},
   "outputs": [],
   "source": [
    "df['totalhashtags'] = df['Hashtags'].str.count(' ') + 1 #count the number of hashtags in a message\n",
    "df['totalhashtags'] = df['totalhashtags'].fillna(0) #replace each NaN value with 0.0 \n",
    "df"
   ]
  },
  {
   "cell_type": "markdown",
   "metadata": {},
   "source": [
    "Data Belgium:"
   ]
  },
  {
   "cell_type": "code",
   "execution_count": null,
   "metadata": {},
   "outputs": [],
   "source": [
    "df['Place'] = df['Place'].str.replace(',','') # replace a , with a whitespace\n",
    "df_Belgie = df[df['Place'].str.contains('Belgium|Belgie|België')]\n",
    "df_Belgie\n"
   ]
  },
  {
   "cell_type": "markdown",
   "metadata": {},
   "source": [
    "Average number of hashtags per tweet on all tweets Belgium:"
   ]
  },
  {
   "cell_type": "code",
   "execution_count": null,
   "metadata": {},
   "outputs": [],
   "source": [
    "df_Belgie_averagehashtags = df_Belgie['totalhashtags'].mean()# calculate average \n",
    "df_Belgie_averagehashtags"
   ]
  },
  {
   "cell_type": "markdown",
   "metadata": {},
   "source": [
    "Dutch Data:"
   ]
  },
  {
   "cell_type": "code",
   "execution_count": null,
   "metadata": {},
   "outputs": [],
   "source": [
    "df['Place'] = df['Place'].str.replace(',','') # replace a , with a whitespace\n",
    "df_Nederland = df[df['Place'].str.contains('Nederland|Netherlands')] # search for Nederland in Place\n",
    "df_Nederland"
   ]
  },
  {
   "cell_type": "markdown",
   "metadata": {},
   "source": [
    "Average number of hashtags per Dutch tweet:"
   ]
  },
  {
   "cell_type": "code",
   "execution_count": null,
   "metadata": {},
   "outputs": [],
   "source": [
    "df_Nederland_averagehashtags = df_Nederland['totalhashtags'].mean() # calculate average \n",
    "df_Nederland_averagehashtags"
   ]
  },
  {
   "cell_type": "markdown",
   "metadata": {},
   "source": [
    "Replace the whole string which contain a folowing substring with the words Nederland or Belgie"
   ]
  },
  {
   "cell_type": "code",
   "execution_count": null,
   "metadata": {},
   "outputs": [],
   "source": [
    "df_Nederland_en_Belgie = df[df['Place'].str.contains('Nederland|Netherlands|Belgium|Belgie|België')]\n",
    "df_Nederland_en_Belgie.loc[df_Nederland_en_Belgie['Place'].str.contains('Nederland', case=False), 'Place'] = 'Nederland'\n",
    "df_Nederland_en_Belgie.loc[df_Nederland_en_Belgie['Place'].str.contains('Netherlands', case=False), 'Place'] = 'Nederland'\n",
    "df_Nederland_en_Belgie.loc[df_Nederland_en_Belgie['Place'].str.contains('Belgium', case=False), 'Place'] = 'Belgie'\n",
    "df_Nederland_en_Belgie.loc[df_Nederland_en_Belgie['Place'].str.contains('Belgie', case=False), 'Place'] = 'Belgie'\n",
    "df_Nederland_en_Belgie.loc[df_Nederland_en_Belgie['Place'].str.contains('België', case=False), 'Place'] = 'Belgie' \n",
    "df_Nederland_en_Belgie"
   ]
  },
  {
   "cell_type": "markdown",
   "metadata": {},
   "source": [
    "Average of Dutch and Belgium Twitter users total hashtags per tweet"
   ]
  },
  {
   "cell_type": "code",
   "execution_count": null,
   "metadata": {},
   "outputs": [],
   "source": [
    "df_Nederland_en_Belgie = df_Nederland_en_Belgie.groupby('Place')['totalhashtags'].agg(['mean','std']) #calculate average and standard deviation of totalhashtags of Belgium and the Netherlands\n",
    "df_Nederland_en_Belgie"
   ]
  },
  {
   "cell_type": "markdown",
   "metadata": {},
   "source": [
    "Graph with mean:"
   ]
  },
  {
   "cell_type": "code",
   "execution_count": null,
   "metadata": {},
   "outputs": [],
   "source": [
    "df_Nederland_en_Belgie.plot(kind = \"barh\", y = \"mean\", legend = False, #makes a barhplot whith the mean\n",
    "            title = \"Average totalhashtags\")"
   ]
  },
  {
   "cell_type": "markdown",
   "metadata": {},
   "source": [
    "Graph with mean and standard deviation:"
   ]
  },
  {
   "cell_type": "code",
   "execution_count": null,
   "metadata": {},
   "outputs": [],
   "source": [
    "df_Nederland_en_Belgie.plot(kind = \"barh\", y = \"mean\", legend = False,\n",
    "            title = \"Average totalhashtags\", xerr = \"std\") #makes a barhplot with the mean and std"
   ]
  }
 ],
 "metadata": {
  "kernelspec": {
   "display_name": "Python 3",
   "language": "python",
   "name": "python3"
  },
  "language_info": {
   "codemirror_mode": {
    "name": "ipython",
    "version": 3
   },
   "file_extension": ".py",
   "mimetype": "text/x-python",
   "name": "python",
   "nbconvert_exporter": "python",
   "pygments_lexer": "ipython3",
   "version": "3.8.10"
  }
 },
 "nbformat": 4,
 "nbformat_minor": 4
}
